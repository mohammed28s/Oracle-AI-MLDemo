{
 "cells": [
  {
   "cell_type": "markdown",
   "id": "ff2bdd14-36d6-486e-807d-f006256ff3b0",
   "metadata": {},
   "source": [
    "## Machine Learning Process \n",
    "* Loading data,\n",
    "* Preprocessing,\n",
    "* Training a model,\n",
    "* Evaluating the model\n",
    "* Making predictions.\n"
   ]
  },
  {
   "cell_type": "code",
   "execution_count": null,
   "id": "a2c4d5eb-e75a-4aa2-81f7-51a82b0e038c",
   "metadata": {},
   "outputs": [],
   "source": [
    "#Loading the Dataset and Displaying the First Few Rows\n",
    "iris_data = pd.read_csv('iris.csv')\n",
    "iris_data.columns"
   ]
  },
  {
   "cell_type": "code",
   "execution_count": null,
   "id": "5c0c37d3-a2c2-4ee8-9529-a88eb717c378",
   "metadata": {},
   "outputs": [],
   "source": [
    "#Import necessary libraries \n",
    "import pandas as pd \n",
    "from sklearn.linear_model import LogisticRegression"
   ]
  },
  {
   "cell_type": "code",
   "execution_count": null,
   "id": "5052c6b6-1597-4d56-bffd-34e014c93794",
   "metadata": {},
   "outputs": [],
   "source": [
    "# Split the data into features (X) and labels (y)\n",
    "x = iris_data.drop(columns=['Id', 'Species'])\n",
    "y = iris_data['Species']"
   ]
  },
  {
   "cell_type": "code",
   "execution_count": null,
   "id": "032a7a9a-ee21-4ee5-9333-01c040cc5163",
   "metadata": {},
   "outputs": [],
   "source": []
  }
 ],
 "metadata": {
  "kernelspec": {
   "display_name": "Python 3 (ipykernel)",
   "language": "python",
   "name": "python3"
  },
  "language_info": {
   "codemirror_mode": {
    "name": "ipython",
    "version": 3
   },
   "file_extension": ".py",
   "mimetype": "text/x-python",
   "name": "python",
   "nbconvert_exporter": "python",
   "pygments_lexer": "ipython3",
   "version": "3.13.5"
  }
 },
 "nbformat": 4,
 "nbformat_minor": 5
}
